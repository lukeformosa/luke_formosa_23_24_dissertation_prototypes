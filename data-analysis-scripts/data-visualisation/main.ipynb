{
 "cells": [
  {
   "cell_type": "code",
   "execution_count": 1,
   "metadata": {},
   "outputs": [],
   "source": [
    "import os\n",
    "import json\n",
    "import base64\n",
    "from PIL import Image\n",
    "from io import BytesIO\n",
    "\n",
    "def decode_base64(data):\n",
    "    # Check if the data URI scheme is present and remove it\n",
    "    if data.startswith('data:image/png;base64,'):\n",
    "        data = data.replace('data:image/png;base64,', '')\n",
    "    # Add padding if necessary to fix the \"Incorrect padding\" error\n",
    "    padding = 4 - (len(data) % 4)\n",
    "    if padding:\n",
    "        data += '=' * padding\n",
    "    return base64.b64decode(data)\n",
    "\n",
    "def save_images_from_json(json_filepath, output_dir):\n",
    "    # Ensure the output directory exists\n",
    "    if not os.path.exists(output_dir):\n",
    "        os.makedirs(output_dir)\n",
    "\n",
    "    # Load the JSON file\n",
    "    with open(json_filepath, 'r') as file:\n",
    "        data = json.load(file)\n",
    "\n",
    "    # Process each category of images\n",
    "    for category in data:\n",
    "        category_path = os.path.join(output_dir, category)\n",
    "        if not os.path.exists(category_path):\n",
    "            os.makedirs(category_path)\n",
    "\n",
    "        # Decode and save each image\n",
    "        for i, base64_png in enumerate(data[category]):\n",
    "            try:\n",
    "                # Decode the base64 string to bytes, handling padding issues\n",
    "                image_data = decode_base64(base64_png)\n",
    "                # Try to open the image\n",
    "                image = Image.open(BytesIO(image_data))\n",
    "                # Save the image\n",
    "                image.save(os.path.join(category_path, f'image_{i+1}.png'))\n",
    "            except Exception as e:\n",
    "                # Print diagnostic information\n",
    "                print(f\"Failed to decode or save image {i+1} in category '{category}': {e}\")\n",
    "                print(f\"Base64 data starts with: {base64_png[:50]}\")  # Print a longer portion if needed\n",
    "\n",
    "# Example usage\n",
    "json_filepath = 'data.json'  # Path to the JSON file\n",
    "output_dir = 'outputs'  # Directory to save the images\n",
    "save_images_from_json(json_filepath, output_dir)"
   ]
  }
 ],
 "metadata": {
  "kernelspec": {
   "display_name": ".venv",
   "language": "python",
   "name": "python3"
  },
  "language_info": {
   "codemirror_mode": {
    "name": "ipython",
    "version": 3
   },
   "file_extension": ".py",
   "mimetype": "text/x-python",
   "name": "python",
   "nbconvert_exporter": "python",
   "pygments_lexer": "ipython3",
   "version": "3.11.2"
  }
 },
 "nbformat": 4,
 "nbformat_minor": 2
}
