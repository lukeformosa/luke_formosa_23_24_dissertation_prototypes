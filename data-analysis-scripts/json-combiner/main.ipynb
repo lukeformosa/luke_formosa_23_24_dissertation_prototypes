{
 "cells": [
  {
   "cell_type": "code",
   "execution_count": 3,
   "metadata": {},
   "outputs": [
    {
     "name": "stdout",
     "output_type": "stream",
     "text": [
      "Combined JSON files written to: combined.json\n"
     ]
    }
   ],
   "source": [
    "import json\n",
    "import os\n",
    "\n",
    "def combine_json_files(parent_folder, output_file):\n",
    "  \"\"\"\n",
    "  Combines all JSON files within a parent folder into a single JSON array.\n",
    "\n",
    "  Args:\n",
    "    parent_folder: The path to the parent folder containing the JSON files.\n",
    "    output_file: The path to the output file containing the combined JSON array.\n",
    "  \"\"\"\n",
    "  combined_data = []\n",
    "  for filename in os.listdir(parent_folder):\n",
    "    if filename.endswith(\".json\"):\n",
    "      file_path = os.path.join(parent_folder, filename)\n",
    "      try:\n",
    "        with open(file_path, 'r') as f:\n",
    "          data = json.load(f)\n",
    "          combined_data.append(data)\n",
    "      except FileNotFoundError:\n",
    "        print(f\"Error: File {file_path} not found.\")\n",
    "      except json.JSONDecodeError:\n",
    "        print(f\"Error: Invalid JSON format in file {file_path}.\")\n",
    "\n",
    "  with open(output_file, 'w') as f:\n",
    "    json.dump(combined_data, f, indent=2)  # Add indentation for readability (optional)\n",
    "\n",
    "# Example usage\n",
    "parent_folder = \"../../experiments/phase1/iteration2\"\n",
    "output_file = \"combined.json\"\n",
    "\n",
    "combine_json_files(parent_folder, output_file)\n",
    "\n",
    "print(f\"Combined JSON files written to: {output_file}\")"
   ]
  }
 ],
 "metadata": {
  "kernelspec": {
   "display_name": ".venv",
   "language": "python",
   "name": "python3"
  },
  "language_info": {
   "codemirror_mode": {
    "name": "ipython",
    "version": 3
   },
   "file_extension": ".py",
   "mimetype": "text/x-python",
   "name": "python",
   "nbconvert_exporter": "python",
   "pygments_lexer": "ipython3",
   "version": "3.11.2"
  }
 },
 "nbformat": 4,
 "nbformat_minor": 2
}
